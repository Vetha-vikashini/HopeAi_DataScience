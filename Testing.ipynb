{
 "cells": [
  {
   "cell_type": "code",
   "execution_count": 1,
   "id": "4576ca41",
   "metadata": {},
   "outputs": [],
   "source": [
    "import pandas as pd \n",
    "from Univariate import Univariate"
   ]
  },
  {
   "cell_type": "code",
   "execution_count": 2,
   "id": "7b2beddc",
   "metadata": {},
   "outputs": [],
   "source": [
    "d=pd.read_csv(\"Placement.csv\")"
   ]
  },
  {
   "cell_type": "code",
   "execution_count": 3,
   "id": "a4f62482",
   "metadata": {},
   "outputs": [],
   "source": [
    "Qual,Quan=Univariate.QuanQual(d)"
   ]
  },
  {
   "cell_type": "code",
   "execution_count": 4,
   "id": "b236a2aa",
   "metadata": {},
   "outputs": [
    {
     "name": "stdout",
     "output_type": "stream",
     "text": [
      "['gender', 'ssc_b', 'hsc_b', 'hsc_s', 'degree_t', 'workex', 'specialisation', 'status'] ['sl_no', 'ssc_p', 'hsc_p', 'degree_p', 'etest_p', 'mba_p', 'salary']\n"
     ]
    }
   ],
   "source": [
    "print(Qual,Quan)"
   ]
  },
  {
   "cell_type": "code",
   "execution_count": null,
   "id": "038f7134",
   "metadata": {},
   "outputs": [],
   "source": []
  },
  {
   "cell_type": "code",
   "execution_count": null,
   "id": "88689b6f",
   "metadata": {},
   "outputs": [],
   "source": []
  }
 ],
 "metadata": {
  "kernelspec": {
   "display_name": "Python 3 (ipykernel)",
   "language": "python",
   "name": "python3"
  },
  "language_info": {
   "codemirror_mode": {
    "name": "ipython",
    "version": 3
   },
   "file_extension": ".py",
   "mimetype": "text/x-python",
   "name": "python",
   "nbconvert_exporter": "python",
   "pygments_lexer": "ipython3",
   "version": "3.7.1"
  }
 },
 "nbformat": 4,
 "nbformat_minor": 5
}
