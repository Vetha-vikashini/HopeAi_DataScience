{
 "cells": [
  {
   "cell_type": "code",
   "execution_count": 1,
   "id": "553df135",
   "metadata": {},
   "outputs": [],
   "source": [
    "import numpy as np\n",
    "import pandas as pd\n",
    "import seaborn as sns"
   ]
  },
  {
   "cell_type": "code",
   "execution_count": 2,
   "id": "487f9d96",
   "metadata": {},
   "outputs": [],
   "source": [
    "data=pd.read_csv(\"PrePlacement_data.csv\")"
   ]
  },
  {
   "cell_type": "code",
   "execution_count": 3,
   "id": "be928110",
   "metadata": {
    "scrolled": true
   },
   "outputs": [
    {
     "data": {
      "text/html": [
       "<div>\n",
       "<style scoped>\n",
       "    .dataframe tbody tr th:only-of-type {\n",
       "        vertical-align: middle;\n",
       "    }\n",
       "\n",
       "    .dataframe tbody tr th {\n",
       "        vertical-align: top;\n",
       "    }\n",
       "\n",
       "    .dataframe thead th {\n",
       "        text-align: right;\n",
       "    }\n",
       "</style>\n",
       "<table border=\"1\" class=\"dataframe\">\n",
       "  <thead>\n",
       "    <tr style=\"text-align: right;\">\n",
       "      <th></th>\n",
       "      <th>sl_no</th>\n",
       "      <th>ssc_p</th>\n",
       "      <th>hsc_p</th>\n",
       "      <th>degree_p</th>\n",
       "      <th>etest_p</th>\n",
       "      <th>mba_p</th>\n",
       "      <th>salary</th>\n",
       "      <th>gender</th>\n",
       "      <th>ssc_b</th>\n",
       "      <th>hsc_b</th>\n",
       "      <th>hsc_s</th>\n",
       "      <th>degree_t</th>\n",
       "      <th>workex</th>\n",
       "      <th>specialisation</th>\n",
       "      <th>status</th>\n",
       "    </tr>\n",
       "  </thead>\n",
       "  <tbody>\n",
       "    <tr>\n",
       "      <th>0</th>\n",
       "      <td>1</td>\n",
       "      <td>67.00</td>\n",
       "      <td>91.00</td>\n",
       "      <td>58.00</td>\n",
       "      <td>55.0</td>\n",
       "      <td>58.80</td>\n",
       "      <td>270000.0</td>\n",
       "      <td>M</td>\n",
       "      <td>Others</td>\n",
       "      <td>Others</td>\n",
       "      <td>Commerce</td>\n",
       "      <td>Sci&amp;Tech</td>\n",
       "      <td>No</td>\n",
       "      <td>Mkt&amp;HR</td>\n",
       "      <td>Placed</td>\n",
       "    </tr>\n",
       "    <tr>\n",
       "      <th>1</th>\n",
       "      <td>2</td>\n",
       "      <td>79.33</td>\n",
       "      <td>78.33</td>\n",
       "      <td>77.48</td>\n",
       "      <td>86.5</td>\n",
       "      <td>66.28</td>\n",
       "      <td>200000.0</td>\n",
       "      <td>M</td>\n",
       "      <td>Central</td>\n",
       "      <td>Others</td>\n",
       "      <td>Science</td>\n",
       "      <td>Sci&amp;Tech</td>\n",
       "      <td>Yes</td>\n",
       "      <td>Mkt&amp;Fin</td>\n",
       "      <td>Placed</td>\n",
       "    </tr>\n",
       "    <tr>\n",
       "      <th>2</th>\n",
       "      <td>3</td>\n",
       "      <td>65.00</td>\n",
       "      <td>68.00</td>\n",
       "      <td>64.00</td>\n",
       "      <td>75.0</td>\n",
       "      <td>57.80</td>\n",
       "      <td>250000.0</td>\n",
       "      <td>M</td>\n",
       "      <td>Central</td>\n",
       "      <td>Central</td>\n",
       "      <td>Arts</td>\n",
       "      <td>Comm&amp;Mgmt</td>\n",
       "      <td>No</td>\n",
       "      <td>Mkt&amp;Fin</td>\n",
       "      <td>Placed</td>\n",
       "    </tr>\n",
       "    <tr>\n",
       "      <th>3</th>\n",
       "      <td>4</td>\n",
       "      <td>56.00</td>\n",
       "      <td>52.00</td>\n",
       "      <td>52.00</td>\n",
       "      <td>66.0</td>\n",
       "      <td>59.43</td>\n",
       "      <td>0.0</td>\n",
       "      <td>M</td>\n",
       "      <td>Central</td>\n",
       "      <td>Central</td>\n",
       "      <td>Science</td>\n",
       "      <td>Sci&amp;Tech</td>\n",
       "      <td>No</td>\n",
       "      <td>Mkt&amp;HR</td>\n",
       "      <td>Not Placed</td>\n",
       "    </tr>\n",
       "    <tr>\n",
       "      <th>4</th>\n",
       "      <td>5</td>\n",
       "      <td>85.80</td>\n",
       "      <td>73.60</td>\n",
       "      <td>73.30</td>\n",
       "      <td>96.8</td>\n",
       "      <td>55.50</td>\n",
       "      <td>425000.0</td>\n",
       "      <td>M</td>\n",
       "      <td>Central</td>\n",
       "      <td>Central</td>\n",
       "      <td>Commerce</td>\n",
       "      <td>Comm&amp;Mgmt</td>\n",
       "      <td>No</td>\n",
       "      <td>Mkt&amp;Fin</td>\n",
       "      <td>Placed</td>\n",
       "    </tr>\n",
       "    <tr>\n",
       "      <th>...</th>\n",
       "      <td>...</td>\n",
       "      <td>...</td>\n",
       "      <td>...</td>\n",
       "      <td>...</td>\n",
       "      <td>...</td>\n",
       "      <td>...</td>\n",
       "      <td>...</td>\n",
       "      <td>...</td>\n",
       "      <td>...</td>\n",
       "      <td>...</td>\n",
       "      <td>...</td>\n",
       "      <td>...</td>\n",
       "      <td>...</td>\n",
       "      <td>...</td>\n",
       "      <td>...</td>\n",
       "    </tr>\n",
       "    <tr>\n",
       "      <th>210</th>\n",
       "      <td>211</td>\n",
       "      <td>80.60</td>\n",
       "      <td>82.00</td>\n",
       "      <td>77.60</td>\n",
       "      <td>91.0</td>\n",
       "      <td>74.49</td>\n",
       "      <td>400000.0</td>\n",
       "      <td>M</td>\n",
       "      <td>Others</td>\n",
       "      <td>Others</td>\n",
       "      <td>Commerce</td>\n",
       "      <td>Comm&amp;Mgmt</td>\n",
       "      <td>No</td>\n",
       "      <td>Mkt&amp;Fin</td>\n",
       "      <td>Placed</td>\n",
       "    </tr>\n",
       "    <tr>\n",
       "      <th>211</th>\n",
       "      <td>212</td>\n",
       "      <td>58.00</td>\n",
       "      <td>60.00</td>\n",
       "      <td>72.00</td>\n",
       "      <td>74.0</td>\n",
       "      <td>53.62</td>\n",
       "      <td>275000.0</td>\n",
       "      <td>M</td>\n",
       "      <td>Others</td>\n",
       "      <td>Others</td>\n",
       "      <td>Science</td>\n",
       "      <td>Sci&amp;Tech</td>\n",
       "      <td>No</td>\n",
       "      <td>Mkt&amp;Fin</td>\n",
       "      <td>Placed</td>\n",
       "    </tr>\n",
       "    <tr>\n",
       "      <th>212</th>\n",
       "      <td>213</td>\n",
       "      <td>67.00</td>\n",
       "      <td>67.00</td>\n",
       "      <td>73.00</td>\n",
       "      <td>59.0</td>\n",
       "      <td>69.72</td>\n",
       "      <td>295000.0</td>\n",
       "      <td>M</td>\n",
       "      <td>Others</td>\n",
       "      <td>Others</td>\n",
       "      <td>Commerce</td>\n",
       "      <td>Comm&amp;Mgmt</td>\n",
       "      <td>Yes</td>\n",
       "      <td>Mkt&amp;Fin</td>\n",
       "      <td>Placed</td>\n",
       "    </tr>\n",
       "    <tr>\n",
       "      <th>213</th>\n",
       "      <td>214</td>\n",
       "      <td>74.00</td>\n",
       "      <td>66.00</td>\n",
       "      <td>58.00</td>\n",
       "      <td>70.0</td>\n",
       "      <td>60.23</td>\n",
       "      <td>204000.0</td>\n",
       "      <td>F</td>\n",
       "      <td>Others</td>\n",
       "      <td>Others</td>\n",
       "      <td>Commerce</td>\n",
       "      <td>Comm&amp;Mgmt</td>\n",
       "      <td>No</td>\n",
       "      <td>Mkt&amp;HR</td>\n",
       "      <td>Placed</td>\n",
       "    </tr>\n",
       "    <tr>\n",
       "      <th>214</th>\n",
       "      <td>215</td>\n",
       "      <td>62.00</td>\n",
       "      <td>58.00</td>\n",
       "      <td>53.00</td>\n",
       "      <td>89.0</td>\n",
       "      <td>60.22</td>\n",
       "      <td>0.0</td>\n",
       "      <td>M</td>\n",
       "      <td>Central</td>\n",
       "      <td>Others</td>\n",
       "      <td>Science</td>\n",
       "      <td>Comm&amp;Mgmt</td>\n",
       "      <td>No</td>\n",
       "      <td>Mkt&amp;HR</td>\n",
       "      <td>Not Placed</td>\n",
       "    </tr>\n",
       "  </tbody>\n",
       "</table>\n",
       "<p>215 rows × 15 columns</p>\n",
       "</div>"
      ],
      "text/plain": [
       "     sl_no  ssc_p  hsc_p  degree_p  etest_p  mba_p    salary gender    ssc_b  \\\n",
       "0        1  67.00  91.00     58.00     55.0  58.80  270000.0      M   Others   \n",
       "1        2  79.33  78.33     77.48     86.5  66.28  200000.0      M  Central   \n",
       "2        3  65.00  68.00     64.00     75.0  57.80  250000.0      M  Central   \n",
       "3        4  56.00  52.00     52.00     66.0  59.43       0.0      M  Central   \n",
       "4        5  85.80  73.60     73.30     96.8  55.50  425000.0      M  Central   \n",
       "..     ...    ...    ...       ...      ...    ...       ...    ...      ...   \n",
       "210    211  80.60  82.00     77.60     91.0  74.49  400000.0      M   Others   \n",
       "211    212  58.00  60.00     72.00     74.0  53.62  275000.0      M   Others   \n",
       "212    213  67.00  67.00     73.00     59.0  69.72  295000.0      M   Others   \n",
       "213    214  74.00  66.00     58.00     70.0  60.23  204000.0      F   Others   \n",
       "214    215  62.00  58.00     53.00     89.0  60.22       0.0      M  Central   \n",
       "\n",
       "       hsc_b     hsc_s   degree_t workex specialisation      status  \n",
       "0     Others  Commerce   Sci&Tech     No         Mkt&HR      Placed  \n",
       "1     Others   Science   Sci&Tech    Yes        Mkt&Fin      Placed  \n",
       "2    Central      Arts  Comm&Mgmt     No        Mkt&Fin      Placed  \n",
       "3    Central   Science   Sci&Tech     No         Mkt&HR  Not Placed  \n",
       "4    Central  Commerce  Comm&Mgmt     No        Mkt&Fin      Placed  \n",
       "..       ...       ...        ...    ...            ...         ...  \n",
       "210   Others  Commerce  Comm&Mgmt     No        Mkt&Fin      Placed  \n",
       "211   Others   Science   Sci&Tech     No        Mkt&Fin      Placed  \n",
       "212   Others  Commerce  Comm&Mgmt    Yes        Mkt&Fin      Placed  \n",
       "213   Others  Commerce  Comm&Mgmt     No         Mkt&HR      Placed  \n",
       "214   Others   Science  Comm&Mgmt     No         Mkt&HR  Not Placed  \n",
       "\n",
       "[215 rows x 15 columns]"
      ]
     },
     "execution_count": 3,
     "metadata": {},
     "output_type": "execute_result"
    }
   ],
   "source": [
    "data"
   ]
  },
  {
   "cell_type": "code",
   "execution_count": 4,
   "id": "18306c1a",
   "metadata": {},
   "outputs": [
    {
     "data": {
      "text/plain": [
       "sl_no             0\n",
       "ssc_p             0\n",
       "hsc_p             0\n",
       "degree_p          0\n",
       "etest_p           0\n",
       "mba_p             0\n",
       "salary            0\n",
       "gender            0\n",
       "ssc_b             0\n",
       "hsc_b             0\n",
       "hsc_s             0\n",
       "degree_t          0\n",
       "workex            0\n",
       "specialisation    0\n",
       "status            0\n",
       "dtype: int64"
      ]
     },
     "execution_count": 4,
     "metadata": {},
     "output_type": "execute_result"
    }
   ],
   "source": [
    "data.isnull().sum()"
   ]
  },
  {
   "cell_type": "code",
   "execution_count": 5,
   "id": "b3a08535",
   "metadata": {},
   "outputs": [
    {
     "data": {
      "text/html": [
       "<div>\n",
       "<style scoped>\n",
       "    .dataframe tbody tr th:only-of-type {\n",
       "        vertical-align: middle;\n",
       "    }\n",
       "\n",
       "    .dataframe tbody tr th {\n",
       "        vertical-align: top;\n",
       "    }\n",
       "\n",
       "    .dataframe thead th {\n",
       "        text-align: right;\n",
       "    }\n",
       "</style>\n",
       "<table border=\"1\" class=\"dataframe\">\n",
       "  <thead>\n",
       "    <tr style=\"text-align: right;\">\n",
       "      <th></th>\n",
       "      <th>sl_no</th>\n",
       "      <th>ssc_p</th>\n",
       "      <th>hsc_p</th>\n",
       "      <th>degree_p</th>\n",
       "      <th>etest_p</th>\n",
       "      <th>mba_p</th>\n",
       "      <th>salary</th>\n",
       "    </tr>\n",
       "  </thead>\n",
       "  <tbody>\n",
       "    <tr>\n",
       "      <th>sl_no</th>\n",
       "      <td>3870.000000</td>\n",
       "      <td>-52.641355</td>\n",
       "      <td>-59.598879</td>\n",
       "      <td>-41.465047</td>\n",
       "      <td>52.556168</td>\n",
       "      <td>8.102336</td>\n",
       "      <td>1.138318e+04</td>\n",
       "    </tr>\n",
       "    <tr>\n",
       "      <th>ssc_p</th>\n",
       "      <td>-52.641355</td>\n",
       "      <td>117.228377</td>\n",
       "      <td>58.853253</td>\n",
       "      <td>42.702550</td>\n",
       "      <td>37.659225</td>\n",
       "      <td>24.535952</td>\n",
       "      <td>9.088585e+05</td>\n",
       "    </tr>\n",
       "    <tr>\n",
       "      <th>hsc_p</th>\n",
       "      <td>-59.598879</td>\n",
       "      <td>58.853253</td>\n",
       "      <td>112.063731</td>\n",
       "      <td>33.684453</td>\n",
       "      <td>33.838355</td>\n",
       "      <td>21.517688</td>\n",
       "      <td>7.310079e+05</td>\n",
       "    </tr>\n",
       "    <tr>\n",
       "      <th>degree_p</th>\n",
       "      <td>-41.465047</td>\n",
       "      <td>42.702550</td>\n",
       "      <td>33.684453</td>\n",
       "      <td>53.604710</td>\n",
       "      <td>22.078774</td>\n",
       "      <td>17.185200</td>\n",
       "      <td>4.663363e+05</td>\n",
       "    </tr>\n",
       "    <tr>\n",
       "      <th>etest_p</th>\n",
       "      <td>52.556168</td>\n",
       "      <td>37.659225</td>\n",
       "      <td>33.838355</td>\n",
       "      <td>22.078774</td>\n",
       "      <td>176.251018</td>\n",
       "      <td>16.886973</td>\n",
       "      <td>3.727004e+05</td>\n",
       "    </tr>\n",
       "    <tr>\n",
       "      <th>mba_p</th>\n",
       "      <td>8.102336</td>\n",
       "      <td>24.535952</td>\n",
       "      <td>21.517688</td>\n",
       "      <td>17.185200</td>\n",
       "      <td>16.886973</td>\n",
       "      <td>34.028376</td>\n",
       "      <td>1.239934e+05</td>\n",
       "    </tr>\n",
       "    <tr>\n",
       "      <th>salary</th>\n",
       "      <td>11383.177570</td>\n",
       "      <td>908858.485818</td>\n",
       "      <td>731007.850848</td>\n",
       "      <td>466336.264888</td>\n",
       "      <td>372700.449468</td>\n",
       "      <td>123993.387361</td>\n",
       "      <td>2.259185e+10</td>\n",
       "    </tr>\n",
       "  </tbody>\n",
       "</table>\n",
       "</div>"
      ],
      "text/plain": [
       "                 sl_no          ssc_p          hsc_p       degree_p  \\\n",
       "sl_no      3870.000000     -52.641355     -59.598879     -41.465047   \n",
       "ssc_p       -52.641355     117.228377      58.853253      42.702550   \n",
       "hsc_p       -59.598879      58.853253     112.063731      33.684453   \n",
       "degree_p    -41.465047      42.702550      33.684453      53.604710   \n",
       "etest_p      52.556168      37.659225      33.838355      22.078774   \n",
       "mba_p         8.102336      24.535952      21.517688      17.185200   \n",
       "salary    11383.177570  908858.485818  731007.850848  466336.264888   \n",
       "\n",
       "                etest_p          mba_p        salary  \n",
       "sl_no         52.556168       8.102336  1.138318e+04  \n",
       "ssc_p         37.659225      24.535952  9.088585e+05  \n",
       "hsc_p         33.838355      21.517688  7.310079e+05  \n",
       "degree_p      22.078774      17.185200  4.663363e+05  \n",
       "etest_p      176.251018      16.886973  3.727004e+05  \n",
       "mba_p         16.886973      34.028376  1.239934e+05  \n",
       "salary    372700.449468  123993.387361  2.259185e+10  "
      ]
     },
     "execution_count": 5,
     "metadata": {},
     "output_type": "execute_result"
    }
   ],
   "source": [
    "data.cov()"
   ]
  },
  {
   "cell_type": "code",
   "execution_count": 6,
   "id": "ba4a7828",
   "metadata": {},
   "outputs": [],
   "source": [
    "# The covariance between degree_p and etest_p is 22.078774 which mean that there is positive covariance(i.e.difference in posiive values).\n",
    "# The covariance between etest_p and mba_p is 16.886973 which mean that there is positive covariance(i.e.difference in posiive values)."
   ]
  },
  {
   "cell_type": "code",
   "execution_count": 7,
   "id": "c6b98103",
   "metadata": {},
   "outputs": [
    {
     "data": {
      "text/html": [
       "<div>\n",
       "<style scoped>\n",
       "    .dataframe tbody tr th:only-of-type {\n",
       "        vertical-align: middle;\n",
       "    }\n",
       "\n",
       "    .dataframe tbody tr th {\n",
       "        vertical-align: top;\n",
       "    }\n",
       "\n",
       "    .dataframe thead th {\n",
       "        text-align: right;\n",
       "    }\n",
       "</style>\n",
       "<table border=\"1\" class=\"dataframe\">\n",
       "  <thead>\n",
       "    <tr style=\"text-align: right;\">\n",
       "      <th></th>\n",
       "      <th>sl_no</th>\n",
       "      <th>ssc_p</th>\n",
       "      <th>hsc_p</th>\n",
       "      <th>degree_p</th>\n",
       "      <th>etest_p</th>\n",
       "      <th>mba_p</th>\n",
       "      <th>salary</th>\n",
       "    </tr>\n",
       "  </thead>\n",
       "  <tbody>\n",
       "    <tr>\n",
       "      <th>sl_no</th>\n",
       "      <td>1.000000</td>\n",
       "      <td>-0.078155</td>\n",
       "      <td>-0.090500</td>\n",
       "      <td>-0.091039</td>\n",
       "      <td>0.063636</td>\n",
       "      <td>0.022327</td>\n",
       "      <td>0.001217</td>\n",
       "    </tr>\n",
       "    <tr>\n",
       "      <th>ssc_p</th>\n",
       "      <td>-0.078155</td>\n",
       "      <td>1.000000</td>\n",
       "      <td>0.513478</td>\n",
       "      <td>0.538686</td>\n",
       "      <td>0.261993</td>\n",
       "      <td>0.388478</td>\n",
       "      <td>0.558475</td>\n",
       "    </tr>\n",
       "    <tr>\n",
       "      <th>hsc_p</th>\n",
       "      <td>-0.090500</td>\n",
       "      <td>0.513478</td>\n",
       "      <td>1.000000</td>\n",
       "      <td>0.434606</td>\n",
       "      <td>0.240775</td>\n",
       "      <td>0.348452</td>\n",
       "      <td>0.459424</td>\n",
       "    </tr>\n",
       "    <tr>\n",
       "      <th>degree_p</th>\n",
       "      <td>-0.091039</td>\n",
       "      <td>0.538686</td>\n",
       "      <td>0.434606</td>\n",
       "      <td>1.000000</td>\n",
       "      <td>0.227147</td>\n",
       "      <td>0.402376</td>\n",
       "      <td>0.423762</td>\n",
       "    </tr>\n",
       "    <tr>\n",
       "      <th>etest_p</th>\n",
       "      <td>0.063636</td>\n",
       "      <td>0.261993</td>\n",
       "      <td>0.240775</td>\n",
       "      <td>0.227147</td>\n",
       "      <td>1.000000</td>\n",
       "      <td>0.218055</td>\n",
       "      <td>0.186775</td>\n",
       "    </tr>\n",
       "    <tr>\n",
       "      <th>mba_p</th>\n",
       "      <td>0.022327</td>\n",
       "      <td>0.388478</td>\n",
       "      <td>0.348452</td>\n",
       "      <td>0.402376</td>\n",
       "      <td>0.218055</td>\n",
       "      <td>1.000000</td>\n",
       "      <td>0.141417</td>\n",
       "    </tr>\n",
       "    <tr>\n",
       "      <th>salary</th>\n",
       "      <td>0.001217</td>\n",
       "      <td>0.558475</td>\n",
       "      <td>0.459424</td>\n",
       "      <td>0.423762</td>\n",
       "      <td>0.186775</td>\n",
       "      <td>0.141417</td>\n",
       "      <td>1.000000</td>\n",
       "    </tr>\n",
       "  </tbody>\n",
       "</table>\n",
       "</div>"
      ],
      "text/plain": [
       "             sl_no     ssc_p     hsc_p  degree_p   etest_p     mba_p    salary\n",
       "sl_no     1.000000 -0.078155 -0.090500 -0.091039  0.063636  0.022327  0.001217\n",
       "ssc_p    -0.078155  1.000000  0.513478  0.538686  0.261993  0.388478  0.558475\n",
       "hsc_p    -0.090500  0.513478  1.000000  0.434606  0.240775  0.348452  0.459424\n",
       "degree_p -0.091039  0.538686  0.434606  1.000000  0.227147  0.402376  0.423762\n",
       "etest_p   0.063636  0.261993  0.240775  0.227147  1.000000  0.218055  0.186775\n",
       "mba_p     0.022327  0.388478  0.348452  0.402376  0.218055  1.000000  0.141417\n",
       "salary    0.001217  0.558475  0.459424  0.423762  0.186775  0.141417  1.000000"
      ]
     },
     "execution_count": 7,
     "metadata": {},
     "output_type": "execute_result"
    }
   ],
   "source": [
    "data.corr()"
   ]
  },
  {
   "cell_type": "code",
   "execution_count": 8,
   "id": "847c9e04",
   "metadata": {},
   "outputs": [],
   "source": [
    "# The correlation between mba_p and salary is 0.141 that is 14% -----> positive correlation"
   ]
  },
  {
   "cell_type": "code",
   "execution_count": null,
   "id": "5c9f40b9",
   "metadata": {},
   "outputs": [],
   "source": []
  },
  {
   "cell_type": "code",
   "execution_count": 9,
   "id": "04436f80",
   "metadata": {},
   "outputs": [],
   "source": [
    "data.drop(\"sl_no\",inplace=True,axis=1)"
   ]
  },
  {
   "cell_type": "code",
   "execution_count": 10,
   "id": "f985aa39",
   "metadata": {},
   "outputs": [],
   "source": [
    "from statsmodels.stats.outliers_influence import variance_inflation_factor\n",
    "def cal_vif(x):\n",
    "    vif=pd.DataFrame()\n",
    "    vif[\"Variables\"]=x.columns\n",
    "    vif[\"VIF\"]=[variance_inflation_factor(x.values,i) for i in range(x.shape[1])]\n",
    "    return vif"
   ]
  },
  {
   "cell_type": "code",
   "execution_count": 11,
   "id": "5b16e6f0",
   "metadata": {},
   "outputs": [
    {
     "data": {
      "text/html": [
       "<div>\n",
       "<style scoped>\n",
       "    .dataframe tbody tr th:only-of-type {\n",
       "        vertical-align: middle;\n",
       "    }\n",
       "\n",
       "    .dataframe tbody tr th {\n",
       "        vertical-align: top;\n",
       "    }\n",
       "\n",
       "    .dataframe thead th {\n",
       "        text-align: right;\n",
       "    }\n",
       "</style>\n",
       "<table border=\"1\" class=\"dataframe\">\n",
       "  <thead>\n",
       "    <tr style=\"text-align: right;\">\n",
       "      <th></th>\n",
       "      <th>Variables</th>\n",
       "      <th>VIF</th>\n",
       "    </tr>\n",
       "  </thead>\n",
       "  <tbody>\n",
       "    <tr>\n",
       "      <th>0</th>\n",
       "      <td>ssc_p</td>\n",
       "      <td>78.168671</td>\n",
       "    </tr>\n",
       "    <tr>\n",
       "      <th>1</th>\n",
       "      <td>hsc_p</td>\n",
       "      <td>61.882196</td>\n",
       "    </tr>\n",
       "    <tr>\n",
       "      <th>2</th>\n",
       "      <td>degree_p</td>\n",
       "      <td>114.820554</td>\n",
       "    </tr>\n",
       "    <tr>\n",
       "      <th>3</th>\n",
       "      <td>etest_p</td>\n",
       "      <td>32.720365</td>\n",
       "    </tr>\n",
       "    <tr>\n",
       "      <th>4</th>\n",
       "      <td>mba_p</td>\n",
       "      <td>116.034378</td>\n",
       "    </tr>\n",
       "    <tr>\n",
       "      <th>5</th>\n",
       "      <td>salary</td>\n",
       "      <td>4.171783</td>\n",
       "    </tr>\n",
       "  </tbody>\n",
       "</table>\n",
       "</div>"
      ],
      "text/plain": [
       "  Variables         VIF\n",
       "0     ssc_p   78.168671\n",
       "1     hsc_p   61.882196\n",
       "2  degree_p  114.820554\n",
       "3   etest_p   32.720365\n",
       "4     mba_p  116.034378\n",
       "5    salary    4.171783"
      ]
     },
     "execution_count": 11,
     "metadata": {},
     "output_type": "execute_result"
    }
   ],
   "source": [
    "cal_vif(data[[\"ssc_p\",\"hsc_p\",\"degree_p\",\"etest_p\",\"mba_p\",\"salary\"]])"
   ]
  },
  {
   "cell_type": "code",
   "execution_count": 12,
   "id": "f041c1a8",
   "metadata": {},
   "outputs": [],
   "source": [
    "#There are two ways to reduce the VIF value in reflect that reduces the multi-colinearity in the dataset\n",
    "\n",
    "# 1) By rejecting the some independent variable\n",
    "# 2) By combining two independent variable into same variable using PCA"
   ]
  },
  {
   "cell_type": "markdown",
   "id": "cdf07ff0",
   "metadata": {},
   "source": [
    "# By rejecting the some independent variable"
   ]
  },
  {
   "cell_type": "code",
   "execution_count": 13,
   "id": "f5d88307",
   "metadata": {},
   "outputs": [
    {
     "data": {
      "text/html": [
       "<div>\n",
       "<style scoped>\n",
       "    .dataframe tbody tr th:only-of-type {\n",
       "        vertical-align: middle;\n",
       "    }\n",
       "\n",
       "    .dataframe tbody tr th {\n",
       "        vertical-align: top;\n",
       "    }\n",
       "\n",
       "    .dataframe thead th {\n",
       "        text-align: right;\n",
       "    }\n",
       "</style>\n",
       "<table border=\"1\" class=\"dataframe\">\n",
       "  <thead>\n",
       "    <tr style=\"text-align: right;\">\n",
       "      <th></th>\n",
       "      <th>Variables</th>\n",
       "      <th>VIF</th>\n",
       "    </tr>\n",
       "  </thead>\n",
       "  <tbody>\n",
       "    <tr>\n",
       "      <th>0</th>\n",
       "      <td>ssc_p</td>\n",
       "      <td>72.865809</td>\n",
       "    </tr>\n",
       "    <tr>\n",
       "      <th>1</th>\n",
       "      <td>hsc_p</td>\n",
       "      <td>57.324468</td>\n",
       "    </tr>\n",
       "    <tr>\n",
       "      <th>2</th>\n",
       "      <td>degree_p</td>\n",
       "      <td>82.888155</td>\n",
       "    </tr>\n",
       "    <tr>\n",
       "      <th>3</th>\n",
       "      <td>etest_p</td>\n",
       "      <td>31.000893</td>\n",
       "    </tr>\n",
       "    <tr>\n",
       "      <th>4</th>\n",
       "      <td>salary</td>\n",
       "      <td>3.586945</td>\n",
       "    </tr>\n",
       "  </tbody>\n",
       "</table>\n",
       "</div>"
      ],
      "text/plain": [
       "  Variables        VIF\n",
       "0     ssc_p  72.865809\n",
       "1     hsc_p  57.324468\n",
       "2  degree_p  82.888155\n",
       "3   etest_p  31.000893\n",
       "4    salary   3.586945"
      ]
     },
     "execution_count": 13,
     "metadata": {},
     "output_type": "execute_result"
    }
   ],
   "source": [
    "cal_vif(data[[\"ssc_p\",\"hsc_p\",\"degree_p\",\"etest_p\",\"salary\"]])"
   ]
  },
  {
   "cell_type": "code",
   "execution_count": 14,
   "id": "8ca87e82",
   "metadata": {},
   "outputs": [
    {
     "data": {
      "text/html": [
       "<div>\n",
       "<style scoped>\n",
       "    .dataframe tbody tr th:only-of-type {\n",
       "        vertical-align: middle;\n",
       "    }\n",
       "\n",
       "    .dataframe tbody tr th {\n",
       "        vertical-align: top;\n",
       "    }\n",
       "\n",
       "    .dataframe thead th {\n",
       "        text-align: right;\n",
       "    }\n",
       "</style>\n",
       "<table border=\"1\" class=\"dataframe\">\n",
       "  <thead>\n",
       "    <tr style=\"text-align: right;\">\n",
       "      <th></th>\n",
       "      <th>Variables</th>\n",
       "      <th>VIF</th>\n",
       "    </tr>\n",
       "  </thead>\n",
       "  <tbody>\n",
       "    <tr>\n",
       "      <th>0</th>\n",
       "      <td>ssc_p</td>\n",
       "      <td>52.626622</td>\n",
       "    </tr>\n",
       "    <tr>\n",
       "      <th>1</th>\n",
       "      <td>hsc_p</td>\n",
       "      <td>47.783807</td>\n",
       "    </tr>\n",
       "    <tr>\n",
       "      <th>2</th>\n",
       "      <td>etest_p</td>\n",
       "      <td>27.957044</td>\n",
       "    </tr>\n",
       "    <tr>\n",
       "      <th>3</th>\n",
       "      <td>salary</td>\n",
       "      <td>3.507225</td>\n",
       "    </tr>\n",
       "  </tbody>\n",
       "</table>\n",
       "</div>"
      ],
      "text/plain": [
       "  Variables        VIF\n",
       "0     ssc_p  52.626622\n",
       "1     hsc_p  47.783807\n",
       "2   etest_p  27.957044\n",
       "3    salary   3.507225"
      ]
     },
     "execution_count": 14,
     "metadata": {},
     "output_type": "execute_result"
    }
   ],
   "source": [
    "cal_vif(data[[\"ssc_p\",\"hsc_p\",\"etest_p\",\"salary\"]])"
   ]
  },
  {
   "cell_type": "markdown",
   "id": "9e755ff2",
   "metadata": {},
   "source": [
    "# By combining two independent variable into same variable using PCA\n",
    "\n",
    "In this we use the PCA method from sklearn.decomposition,\n",
    "By using that, we combine two independent variables (having more correlation) into same variable "
   ]
  },
  {
   "cell_type": "code",
   "execution_count": 15,
   "id": "085c94e9",
   "metadata": {},
   "outputs": [],
   "source": [
    "corr_matrix=data.corr()"
   ]
  },
  {
   "cell_type": "code",
   "execution_count": 16,
   "id": "be77f80a",
   "metadata": {},
   "outputs": [
    {
     "data": {
      "text/plain": [
       "<matplotlib.axes._subplots.AxesSubplot at 0x1b8ba12ab00>"
      ]
     },
     "execution_count": 16,
     "metadata": {},
     "output_type": "execute_result"
    },
    {
     "data": {
      "image/png": "[encoded data removed]",
      "text/plain": [
       "<Figure size 640x480 with 2 Axes>"
      ]
     },
     "metadata": {},
     "output_type": "display_data"
    }
   ],
   "source": [
    "sns.heatmap(corr_matrix,annot=True,cmap='coolwarm')"
   ]
  },
  {
   "cell_type": "code",
   "execution_count": 17,
   "id": "a67282aa",
   "metadata": {},
   "outputs": [
    {
     "name": "stderr",
     "output_type": "stream",
     "text": [
      "C:\\Users\\91636\\anaconda3\\envs\\hopeai\\lib\\site-packages\\sklearn\\linear_model\\least_angle.py:30: DeprecationWarning: `np.float` is a deprecated alias for the builtin `float`. To silence this warning, use `float` by itself. Doing this will not modify any behavior and is safe. If you specifically wanted the numpy scalar type, use `np.float64` here.\n",
      "Deprecated in NumPy 1.20; for more details and guidance: https://numpy.org/devdocs/release/1.20.0-notes.html#deprecations\n",
      "  method='lar', copy_X=True, eps=np.finfo(np.float).eps,\n",
      "C:\\Users\\91636\\anaconda3\\envs\\hopeai\\lib\\site-packages\\sklearn\\linear_model\\least_angle.py:167: DeprecationWarning: `np.float` is a deprecated alias for the builtin `float`. To silence this warning, use `float` by itself. Doing this will not modify any behavior and is safe. If you specifically wanted the numpy scalar type, use `np.float64` here.\n",
      "Deprecated in NumPy 1.20; for more details and guidance: https://numpy.org/devdocs/release/1.20.0-notes.html#deprecations\n",
      "  method='lar', copy_X=True, eps=np.finfo(np.float).eps,\n",
      "C:\\Users\\91636\\anaconda3\\envs\\hopeai\\lib\\site-packages\\sklearn\\linear_model\\least_angle.py:284: DeprecationWarning: `np.float` is a deprecated alias for the builtin `float`. To silence this warning, use `float` by itself. Doing this will not modify any behavior and is safe. If you specifically wanted the numpy scalar type, use `np.float64` here.\n",
      "Deprecated in NumPy 1.20; for more details and guidance: https://numpy.org/devdocs/release/1.20.0-notes.html#deprecations\n",
      "  eps=np.finfo(np.float).eps, copy_Gram=True, verbose=0,\n",
      "C:\\Users\\91636\\anaconda3\\envs\\hopeai\\lib\\site-packages\\sklearn\\linear_model\\least_angle.py:862: DeprecationWarning: `np.float` is a deprecated alias for the builtin `float`. To silence this warning, use `float` by itself. Doing this will not modify any behavior and is safe. If you specifically wanted the numpy scalar type, use `np.float64` here.\n",
      "Deprecated in NumPy 1.20; for more details and guidance: https://numpy.org/devdocs/release/1.20.0-notes.html#deprecations\n",
      "  eps=np.finfo(np.float).eps, copy_X=True, fit_path=True,\n",
      "C:\\Users\\91636\\anaconda3\\envs\\hopeai\\lib\\site-packages\\sklearn\\linear_model\\least_angle.py:1101: DeprecationWarning: `np.float` is a deprecated alias for the builtin `float`. To silence this warning, use `float` by itself. Doing this will not modify any behavior and is safe. If you specifically wanted the numpy scalar type, use `np.float64` here.\n",
      "Deprecated in NumPy 1.20; for more details and guidance: https://numpy.org/devdocs/release/1.20.0-notes.html#deprecations\n",
      "  eps=np.finfo(np.float).eps, copy_X=True, fit_path=True,\n",
      "C:\\Users\\91636\\anaconda3\\envs\\hopeai\\lib\\site-packages\\sklearn\\linear_model\\least_angle.py:1127: DeprecationWarning: `np.float` is a deprecated alias for the builtin `float`. To silence this warning, use `float` by itself. Doing this will not modify any behavior and is safe. If you specifically wanted the numpy scalar type, use `np.float64` here.\n",
      "Deprecated in NumPy 1.20; for more details and guidance: https://numpy.org/devdocs/release/1.20.0-notes.html#deprecations\n",
      "  eps=np.finfo(np.float).eps, positive=False):\n",
      "C:\\Users\\91636\\anaconda3\\envs\\hopeai\\lib\\site-packages\\sklearn\\linear_model\\least_angle.py:1362: DeprecationWarning: `np.float` is a deprecated alias for the builtin `float`. To silence this warning, use `float` by itself. Doing this will not modify any behavior and is safe. If you specifically wanted the numpy scalar type, use `np.float64` here.\n",
      "Deprecated in NumPy 1.20; for more details and guidance: https://numpy.org/devdocs/release/1.20.0-notes.html#deprecations\n",
      "  max_n_alphas=1000, n_jobs=None, eps=np.finfo(np.float).eps,\n",
      "C:\\Users\\91636\\anaconda3\\envs\\hopeai\\lib\\site-packages\\sklearn\\linear_model\\least_angle.py:1602: DeprecationWarning: `np.float` is a deprecated alias for the builtin `float`. To silence this warning, use `float` by itself. Doing this will not modify any behavior and is safe. If you specifically wanted the numpy scalar type, use `np.float64` here.\n",
      "Deprecated in NumPy 1.20; for more details and guidance: https://numpy.org/devdocs/release/1.20.0-notes.html#deprecations\n",
      "  max_n_alphas=1000, n_jobs=None, eps=np.finfo(np.float).eps,\n",
      "C:\\Users\\91636\\anaconda3\\envs\\hopeai\\lib\\site-packages\\sklearn\\linear_model\\least_angle.py:1738: DeprecationWarning: `np.float` is a deprecated alias for the builtin `float`. To silence this warning, use `float` by itself. Doing this will not modify any behavior and is safe. If you specifically wanted the numpy scalar type, use `np.float64` here.\n",
      "Deprecated in NumPy 1.20; for more details and guidance: https://numpy.org/devdocs/release/1.20.0-notes.html#deprecations\n",
      "  eps=np.finfo(np.float).eps, copy_X=True, positive=False):\n",
      "C:\\Users\\91636\\anaconda3\\envs\\hopeai\\lib\\site-packages\\sklearn\\decomposition\\online_lda.py:29: DeprecationWarning: `np.float` is a deprecated alias for the builtin `float`. To silence this warning, use `float` by itself. Doing this will not modify any behavior and is safe. If you specifically wanted the numpy scalar type, use `np.float64` here.\n",
      "Deprecated in NumPy 1.20; for more details and guidance: https://numpy.org/devdocs/release/1.20.0-notes.html#deprecations\n",
      "  EPS = np.finfo(np.float).eps\n"
     ]
    }
   ],
   "source": [
    "from sklearn.decomposition import PCA\n",
    "pca=PCA(n_components=1)\n",
    "data['pca']=pca.fit_transform(data[['ssc_p','degree_p']])"
   ]
  },
  {
   "cell_type": "code",
   "execution_count": 18,
   "id": "6c59df3e",
   "metadata": {},
   "outputs": [
    {
     "data": {
      "text/html": [
       "<div>\n",
       "<style scoped>\n",
       "    .dataframe tbody tr th:only-of-type {\n",
       "        vertical-align: middle;\n",
       "    }\n",
       "\n",
       "    .dataframe tbody tr th {\n",
       "        vertical-align: top;\n",
       "    }\n",
       "\n",
       "    .dataframe thead th {\n",
       "        text-align: right;\n",
       "    }\n",
       "</style>\n",
       "<table border=\"1\" class=\"dataframe\">\n",
       "  <thead>\n",
       "    <tr style=\"text-align: right;\">\n",
       "      <th></th>\n",
       "      <th>Variables</th>\n",
       "      <th>VIF</th>\n",
       "    </tr>\n",
       "  </thead>\n",
       "  <tbody>\n",
       "    <tr>\n",
       "      <th>0</th>\n",
       "      <td>pca</td>\n",
       "      <td>1.408695</td>\n",
       "    </tr>\n",
       "    <tr>\n",
       "      <th>1</th>\n",
       "      <td>hsc_p</td>\n",
       "      <td>55.431482</td>\n",
       "    </tr>\n",
       "    <tr>\n",
       "      <th>2</th>\n",
       "      <td>etest_p</td>\n",
       "      <td>31.484330</td>\n",
       "    </tr>\n",
       "    <tr>\n",
       "      <th>3</th>\n",
       "      <td>mba_p</td>\n",
       "      <td>63.387119</td>\n",
       "    </tr>\n",
       "    <tr>\n",
       "      <th>4</th>\n",
       "      <td>salary</td>\n",
       "      <td>4.365226</td>\n",
       "    </tr>\n",
       "  </tbody>\n",
       "</table>\n",
       "</div>"
      ],
      "text/plain": [
       "  Variables        VIF\n",
       "0       pca   1.408695\n",
       "1     hsc_p  55.431482\n",
       "2   etest_p  31.484330\n",
       "3     mba_p  63.387119\n",
       "4    salary   4.365226"
      ]
     },
     "execution_count": 18,
     "metadata": {},
     "output_type": "execute_result"
    }
   ],
   "source": [
    "cal_vif(data[[\"pca\",\"hsc_p\",\"etest_p\",\"mba_p\",\"salary\"]])"
   ]
  },
  {
   "cell_type": "code",
   "execution_count": 19,
   "id": "06e9f33e",
   "metadata": {},
   "outputs": [],
   "source": [
    "new_data=data[[\"hsc_p\",\"etest_p\",\"mba_p\",\"pca\"]]"
   ]
  },
  {
   "cell_type": "code",
   "execution_count": 20,
   "id": "a8a55462",
   "metadata": {},
   "outputs": [],
   "source": [
    "new_matrix=new_data.corr()"
   ]
  },
  {
   "cell_type": "code",
   "execution_count": 21,
   "id": "2621e03a",
   "metadata": {},
   "outputs": [
    {
     "data": {
      "text/plain": [
       "<matplotlib.axes._subplots.AxesSubplot at 0x1b8ba7ba9e8>"
      ]
     },
     "execution_count": 21,
     "metadata": {},
     "output_type": "execute_result"
    },
    {
     "data": {
      "image/png": "[encoded data removed]",
      "text/plain": [
       "<Figure size 640x480 with 2 Axes>"
      ]
     },
     "metadata": {},
     "output_type": "display_data"
    }
   ],
   "source": [
    "sns.heatmap(new_matrix,annot=True,cmap='coolwarm')"
   ]
  },
  {
   "cell_type": "code",
   "execution_count": 22,
   "id": "adbeb086",
   "metadata": {},
   "outputs": [],
   "source": [
    "data['pca_1']=pca.fit_transform(data[['mba_p','etest_p']])"
   ]
  },
  {
   "cell_type": "code",
   "execution_count": 23,
   "id": "4dbe86a5",
   "metadata": {},
   "outputs": [
    {
     "data": {
      "text/html": [
       "<div>\n",
       "<style scoped>\n",
       "    .dataframe tbody tr th:only-of-type {\n",
       "        vertical-align: middle;\n",
       "    }\n",
       "\n",
       "    .dataframe tbody tr th {\n",
       "        vertical-align: top;\n",
       "    }\n",
       "\n",
       "    .dataframe thead th {\n",
       "        text-align: right;\n",
       "    }\n",
       "</style>\n",
       "<table border=\"1\" class=\"dataframe\">\n",
       "  <thead>\n",
       "    <tr style=\"text-align: right;\">\n",
       "      <th></th>\n",
       "      <th>Variables</th>\n",
       "      <th>VIF</th>\n",
       "    </tr>\n",
       "  </thead>\n",
       "  <tbody>\n",
       "    <tr>\n",
       "      <th>0</th>\n",
       "      <td>pca</td>\n",
       "      <td>1.440129</td>\n",
       "    </tr>\n",
       "    <tr>\n",
       "      <th>1</th>\n",
       "      <td>hsc_p</td>\n",
       "      <td>3.802895</td>\n",
       "    </tr>\n",
       "    <tr>\n",
       "      <th>2</th>\n",
       "      <td>pca_1</td>\n",
       "      <td>1.097113</td>\n",
       "    </tr>\n",
       "    <tr>\n",
       "      <th>3</th>\n",
       "      <td>salary</td>\n",
       "      <td>4.298046</td>\n",
       "    </tr>\n",
       "  </tbody>\n",
       "</table>\n",
       "</div>"
      ],
      "text/plain": [
       "  Variables       VIF\n",
       "0       pca  1.440129\n",
       "1     hsc_p  3.802895\n",
       "2     pca_1  1.097113\n",
       "3    salary  4.298046"
      ]
     },
     "execution_count": 23,
     "metadata": {},
     "output_type": "execute_result"
    }
   ],
   "source": [
    "cal_vif(data[[\"pca\",\"hsc_p\",\"pca_1\",\"salary\"]])"
   ]
  },
  {
   "cell_type": "markdown",
   "id": "9dbca4c0",
   "metadata": {},
   "source": [
    "# T-test"
   ]
  },
  {
   "cell_type": "markdown",
   "id": "6affd205",
   "metadata": {},
   "source": [
    "# Independent / unpaired t-test\n",
    "\n",
    "diferent groups: same condition"
   ]
  },
  {
   "cell_type": "code",
   "execution_count": 24,
   "id": "75f9bc80",
   "metadata": {},
   "outputs": [
    {
     "data": {
      "text/plain": [
       "Ttest_indResult(statistic=2.0937842507001165, pvalue=0.03746230397067219)"
      ]
     },
     "execution_count": 24,
     "metadata": {},
     "output_type": "execute_result"
    }
   ],
   "source": [
    "from scipy.stats import ttest_ind\n",
    "data=data.dropna()\n",
    "male=data[data[\"gender\"]==\"M\"][\"salary\"]\n",
    "female=data[data[\"gender\"]==\"F\"][\"salary\"]\n",
    "\n",
    "ttest_ind(male,female)"
   ]
  },
  {
   "cell_type": "code",
   "execution_count": 25,
   "id": "1b081884",
   "metadata": {},
   "outputs": [],
   "source": [
    "# since the p-value is 0.037, it mean that there is less difference between salary of male and female"
   ]
  },
  {
   "cell_type": "code",
   "execution_count": 26,
   "id": "fc4d0f65",
   "metadata": {},
   "outputs": [
    {
     "data": {
      "text/plain": [
       "Ttest_indResult(statistic=-0.30570032095155825, pvalue=0.7601313863865756)"
      ]
     },
     "execution_count": 26,
     "metadata": {},
     "output_type": "execute_result"
    }
   ],
   "source": [
    "#(central,others)==>(salary)\n",
    "\n",
    "central=data[data[\"hsc_b\"]==\"Central\"][\"salary\"]\n",
    "others=data[data[\"hsc_b\"]==\"Others\"][\"salary\"]\n",
    "\n",
    "ttest_ind(central,others)"
   ]
  },
  {
   "cell_type": "code",
   "execution_count": 27,
   "id": "9cd6400a",
   "metadata": {},
   "outputs": [],
   "source": [
    "# since the p-value is 0.760, it mean that there is more difference between salary of central and other board students in hsc"
   ]
  },
  {
   "cell_type": "markdown",
   "id": "c1f5c495",
   "metadata": {},
   "source": [
    "# Dependent / paired t-test\n",
    "\n",
    "one group - differnt condition"
   ]
  },
  {
   "cell_type": "code",
   "execution_count": 28,
   "id": "39ae3089",
   "metadata": {},
   "outputs": [
    {
     "data": {
      "text/plain": [
       "Ttest_relResult(statistic=-0.6842940392688153, pvalue=0.4949370716000775)"
      ]
     },
     "execution_count": 28,
     "metadata": {},
     "output_type": "execute_result"
    }
   ],
   "source": [
    "from scipy.stats import ttest_rel\n",
    "\n",
    "hsc=data[data[\"gender\"]==\"M\"][\"hsc_p\"]\n",
    "ssc=data[data[\"gender\"]==\"M\"][\"ssc_p\"]\n",
    "\n",
    "ttest_rel(hsc,ssc)"
   ]
  },
  {
   "cell_type": "code",
   "execution_count": 29,
   "id": "2534d892",
   "metadata": {},
   "outputs": [],
   "source": [
    "# the p-value is 0.49 is nearly 0.5. So half of the data is similar in both condn(hsc,ssc) but other half is different"
   ]
  },
  {
   "cell_type": "code",
   "execution_count": 30,
   "id": "8554bc59",
   "metadata": {},
   "outputs": [
    {
     "data": {
      "text/plain": [
       "Ttest_relResult(statistic=-7.868552092606869, pvalue=2.462926468454984e-12)"
      ]
     },
     "execution_count": 30,
     "metadata": {},
     "output_type": "execute_result"
    }
   ],
   "source": [
    "#(science)==>(mba_p,etest_p)\n",
    "\n",
    "mba=data[data[\"hsc_s\"]==\"Commerce\"][\"mba_p\"]\n",
    "etest=data[data[\"hsc_s\"]==\"Commerce\"][\"etest_p\"]\n",
    "\n",
    "ttest_rel(mba,etest)"
   ]
  },
  {
   "cell_type": "markdown",
   "id": "d63ed317",
   "metadata": {},
   "source": [
    "# Anova"
   ]
  },
  {
   "cell_type": "code",
   "execution_count": 31,
   "id": "c48692ce",
   "metadata": {},
   "outputs": [],
   "source": [
    "#one_way anova"
   ]
  },
  {
   "cell_type": "code",
   "execution_count": 32,
   "id": "bba57f38",
   "metadata": {},
   "outputs": [
    {
     "data": {
      "text/plain": [
       "F_onewayResult(statistic=0.695991304348204, pvalue=0.49895574725815317)"
      ]
     },
     "execution_count": 32,
     "metadata": {},
     "output_type": "execute_result"
    }
   ],
   "source": [
    "import scipy.stats as stats\n",
    "stats.f_oneway(data['ssc_p'],data['hsc_p'],data['degree_p'])"
   ]
  },
  {
   "cell_type": "code",
   "execution_count": 33,
   "id": "c5311140",
   "metadata": {},
   "outputs": [
    {
     "name": "stderr",
     "output_type": "stream",
     "text": [
      "C:\\Users\\91636\\anaconda3\\envs\\hopeai\\lib\\site-packages\\outdated\\utils.py:18: OutdatedPackageWarning: The package pingouin is out of date. Your version is 0.5.3, the latest is 0.5.5.\n",
      "Set the environment variable OUTDATED_IGNORE=1 to disable these warnings.\n",
      "  **kwargs\n"
     ]
    }
   ],
   "source": [
    "import pingouin as pg"
   ]
  },
  {
   "cell_type": "code",
   "execution_count": 35,
   "id": "53d33a9e",
   "metadata": {},
   "outputs": [
    {
     "name": "stdout",
     "output_type": "stream",
     "text": [
      "           Source            SS     DF            MS         F     p-unc  \\\n",
      "0          gender  9.602993e+10    1.0  9.602993e+10  4.292081  0.039506   \n",
      "1           hsc_b  6.507874e+08    1.0  6.507874e+08  0.029087  0.864742   \n",
      "2  gender * hsc_b  1.564402e+10    1.0  1.564402e+10  0.699213  0.403994   \n",
      "3        Residual  4.720861e+12  211.0  2.237375e+10       NaN       NaN   \n",
      "\n",
      "        np2  \n",
      "0  0.019936  \n",
      "1  0.000138  \n",
      "2  0.003303  \n",
      "3       NaN  \n"
     ]
    }
   ],
   "source": [
    "anova_results = pg.anova(dv='salary', between=['gender','hsc_b'], data=data, detailed=True)\n",
    "print(anova_results)"
   ]
  },
  {
   "cell_type": "code",
   "execution_count": 37,
   "id": "26fc1447",
   "metadata": {},
   "outputs": [],
   "source": [
    "# gender has signifiacnt result but hsc_b has no significant result\n",
    "# there is no significant interaction between gender and hsc_b"
   ]
  },
  {
   "cell_type": "code",
   "execution_count": 36,
   "id": "9f027f05",
   "metadata": {},
   "outputs": [
    {
     "name": "stdout",
     "output_type": "stream",
     "text": [
      "           Source            SS     DF            MS         F     p-unc  \\\n",
      "0          gender  8.591900e+10    1.0  8.591900e+10  3.865388  0.050616   \n",
      "1           hsc_s  3.405711e+10    2.0  1.702855e+10  0.766093  0.466126   \n",
      "2  gender * hsc_s  5.749256e+10    2.0  2.874628e+10  1.293259  0.276561   \n",
      "3        Residual  4.645606e+12  209.0  2.222778e+10       NaN       NaN   \n",
      "\n",
      "        np2  \n",
      "0  0.018159  \n",
      "1  0.007278  \n",
      "2  0.012224  \n",
      "3       NaN  \n"
     ]
    }
   ],
   "source": [
    "anova_results = pg.anova(dv='salary', between=['gender','hsc_s'], data=data, detailed=True)\n",
    "print(anova_results)"
   ]
  },
  {
   "cell_type": "code",
   "execution_count": 38,
   "id": "e403a0f7",
   "metadata": {},
   "outputs": [],
   "source": [
    "# gender has signifiacnt result but hsc_s has no significant result\n",
    "# there is no significant interaction between gender and hsc_s"
   ]
  }
 ],
 "metadata": {
  "kernelspec": {
   "display_name": "Python 3 (ipykernel)",
   "language": "python",
   "name": "python3"
  },
  "language_info": {
   "codemirror_mode": {
    "name": "ipython",
    "version": 3
   },
   "file_extension": ".py",
   "mimetype": "text/x-python",
   "name": "python",
   "nbconvert_exporter": "python",
   "pygments_lexer": "ipython3",
   "version": "3.7.1"
  }
 },
 "nbformat": 4,
 "nbformat_minor": 5
}
