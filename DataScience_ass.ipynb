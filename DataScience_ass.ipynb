{
 "cells": [
  {
   "cell_type": "code",
   "execution_count": 1,
   "id": "ab3ccb87",
   "metadata": {},
   "outputs": [],
   "source": [
    "import pandas as pd\n",
    "import numpy as np\n",
    "import seaborn as sns"
   ]
  },
  {
   "cell_type": "code",
   "execution_count": 2,
   "id": "e72ed95b",
   "metadata": {},
   "outputs": [],
   "source": [
    "data=pd.read_csv('Placement.csv')"
   ]
  },
  {
   "cell_type": "code",
   "execution_count": 3,
   "id": "b5221823",
   "metadata": {},
   "outputs": [
    {
     "data": {
      "text/html": [
       "<div>\n",
       "<style scoped>\n",
       "    .dataframe tbody tr th:only-of-type {\n",
       "        vertical-align: middle;\n",
       "    }\n",
       "\n",
       "    .dataframe tbody tr th {\n",
       "        vertical-align: top;\n",
       "    }\n",
       "\n",
       "    .dataframe thead th {\n",
       "        text-align: right;\n",
       "    }\n",
       "</style>\n",
       "<table border=\"1\" class=\"dataframe\">\n",
       "  <thead>\n",
       "    <tr style=\"text-align: right;\">\n",
       "      <th></th>\n",
       "      <th>sl_no</th>\n",
       "      <th>gender</th>\n",
       "      <th>ssc_p</th>\n",
       "      <th>ssc_b</th>\n",
       "      <th>hsc_p</th>\n",
       "      <th>hsc_b</th>\n",
       "      <th>hsc_s</th>\n",
       "      <th>degree_p</th>\n",
       "      <th>degree_t</th>\n",
       "      <th>workex</th>\n",
       "      <th>etest_p</th>\n",
       "      <th>specialisation</th>\n",
       "      <th>mba_p</th>\n",
       "      <th>status</th>\n",
       "      <th>salary</th>\n",
       "    </tr>\n",
       "  </thead>\n",
       "  <tbody>\n",
       "    <tr>\n",
       "      <th>0</th>\n",
       "      <td>1</td>\n",
       "      <td>M</td>\n",
       "      <td>67.00</td>\n",
       "      <td>Others</td>\n",
       "      <td>91.00</td>\n",
       "      <td>Others</td>\n",
       "      <td>Commerce</td>\n",
       "      <td>58.00</td>\n",
       "      <td>Sci&amp;Tech</td>\n",
       "      <td>No</td>\n",
       "      <td>55.0</td>\n",
       "      <td>Mkt&amp;HR</td>\n",
       "      <td>58.80</td>\n",
       "      <td>Placed</td>\n",
       "      <td>270000.0</td>\n",
       "    </tr>\n",
       "    <tr>\n",
       "      <th>1</th>\n",
       "      <td>2</td>\n",
       "      <td>M</td>\n",
       "      <td>79.33</td>\n",
       "      <td>Central</td>\n",
       "      <td>78.33</td>\n",
       "      <td>Others</td>\n",
       "      <td>Science</td>\n",
       "      <td>77.48</td>\n",
       "      <td>Sci&amp;Tech</td>\n",
       "      <td>Yes</td>\n",
       "      <td>86.5</td>\n",
       "      <td>Mkt&amp;Fin</td>\n",
       "      <td>66.28</td>\n",
       "      <td>Placed</td>\n",
       "      <td>200000.0</td>\n",
       "    </tr>\n",
       "    <tr>\n",
       "      <th>2</th>\n",
       "      <td>3</td>\n",
       "      <td>M</td>\n",
       "      <td>65.00</td>\n",
       "      <td>Central</td>\n",
       "      <td>68.00</td>\n",
       "      <td>Central</td>\n",
       "      <td>Arts</td>\n",
       "      <td>64.00</td>\n",
       "      <td>Comm&amp;Mgmt</td>\n",
       "      <td>No</td>\n",
       "      <td>75.0</td>\n",
       "      <td>Mkt&amp;Fin</td>\n",
       "      <td>57.80</td>\n",
       "      <td>Placed</td>\n",
       "      <td>250000.0</td>\n",
       "    </tr>\n",
       "    <tr>\n",
       "      <th>3</th>\n",
       "      <td>4</td>\n",
       "      <td>M</td>\n",
       "      <td>56.00</td>\n",
       "      <td>Central</td>\n",
       "      <td>52.00</td>\n",
       "      <td>Central</td>\n",
       "      <td>Science</td>\n",
       "      <td>52.00</td>\n",
       "      <td>Sci&amp;Tech</td>\n",
       "      <td>No</td>\n",
       "      <td>66.0</td>\n",
       "      <td>Mkt&amp;HR</td>\n",
       "      <td>59.43</td>\n",
       "      <td>Not Placed</td>\n",
       "      <td>NaN</td>\n",
       "    </tr>\n",
       "    <tr>\n",
       "      <th>4</th>\n",
       "      <td>5</td>\n",
       "      <td>M</td>\n",
       "      <td>85.80</td>\n",
       "      <td>Central</td>\n",
       "      <td>73.60</td>\n",
       "      <td>Central</td>\n",
       "      <td>Commerce</td>\n",
       "      <td>73.30</td>\n",
       "      <td>Comm&amp;Mgmt</td>\n",
       "      <td>No</td>\n",
       "      <td>96.8</td>\n",
       "      <td>Mkt&amp;Fin</td>\n",
       "      <td>55.50</td>\n",
       "      <td>Placed</td>\n",
       "      <td>425000.0</td>\n",
       "    </tr>\n",
       "    <tr>\n",
       "      <th>...</th>\n",
       "      <td>...</td>\n",
       "      <td>...</td>\n",
       "      <td>...</td>\n",
       "      <td>...</td>\n",
       "      <td>...</td>\n",
       "      <td>...</td>\n",
       "      <td>...</td>\n",
       "      <td>...</td>\n",
       "      <td>...</td>\n",
       "      <td>...</td>\n",
       "      <td>...</td>\n",
       "      <td>...</td>\n",
       "      <td>...</td>\n",
       "      <td>...</td>\n",
       "      <td>...</td>\n",
       "    </tr>\n",
       "    <tr>\n",
       "      <th>210</th>\n",
       "      <td>211</td>\n",
       "      <td>M</td>\n",
       "      <td>80.60</td>\n",
       "      <td>Others</td>\n",
       "      <td>82.00</td>\n",
       "      <td>Others</td>\n",
       "      <td>Commerce</td>\n",
       "      <td>77.60</td>\n",
       "      <td>Comm&amp;Mgmt</td>\n",
       "      <td>No</td>\n",
       "      <td>91.0</td>\n",
       "      <td>Mkt&amp;Fin</td>\n",
       "      <td>74.49</td>\n",
       "      <td>Placed</td>\n",
       "      <td>400000.0</td>\n",
       "    </tr>\n",
       "    <tr>\n",
       "      <th>211</th>\n",
       "      <td>212</td>\n",
       "      <td>M</td>\n",
       "      <td>58.00</td>\n",
       "      <td>Others</td>\n",
       "      <td>60.00</td>\n",
       "      <td>Others</td>\n",
       "      <td>Science</td>\n",
       "      <td>72.00</td>\n",
       "      <td>Sci&amp;Tech</td>\n",
       "      <td>No</td>\n",
       "      <td>74.0</td>\n",
       "      <td>Mkt&amp;Fin</td>\n",
       "      <td>53.62</td>\n",
       "      <td>Placed</td>\n",
       "      <td>275000.0</td>\n",
       "    </tr>\n",
       "    <tr>\n",
       "      <th>212</th>\n",
       "      <td>213</td>\n",
       "      <td>M</td>\n",
       "      <td>67.00</td>\n",
       "      <td>Others</td>\n",
       "      <td>67.00</td>\n",
       "      <td>Others</td>\n",
       "      <td>Commerce</td>\n",
       "      <td>73.00</td>\n",
       "      <td>Comm&amp;Mgmt</td>\n",
       "      <td>Yes</td>\n",
       "      <td>59.0</td>\n",
       "      <td>Mkt&amp;Fin</td>\n",
       "      <td>69.72</td>\n",
       "      <td>Placed</td>\n",
       "      <td>295000.0</td>\n",
       "    </tr>\n",
       "    <tr>\n",
       "      <th>213</th>\n",
       "      <td>214</td>\n",
       "      <td>F</td>\n",
       "      <td>74.00</td>\n",
       "      <td>Others</td>\n",
       "      <td>66.00</td>\n",
       "      <td>Others</td>\n",
       "      <td>Commerce</td>\n",
       "      <td>58.00</td>\n",
       "      <td>Comm&amp;Mgmt</td>\n",
       "      <td>No</td>\n",
       "      <td>70.0</td>\n",
       "      <td>Mkt&amp;HR</td>\n",
       "      <td>60.23</td>\n",
       "      <td>Placed</td>\n",
       "      <td>204000.0</td>\n",
       "    </tr>\n",
       "    <tr>\n",
       "      <th>214</th>\n",
       "      <td>215</td>\n",
       "      <td>M</td>\n",
       "      <td>62.00</td>\n",
       "      <td>Central</td>\n",
       "      <td>58.00</td>\n",
       "      <td>Others</td>\n",
       "      <td>Science</td>\n",
       "      <td>53.00</td>\n",
       "      <td>Comm&amp;Mgmt</td>\n",
       "      <td>No</td>\n",
       "      <td>89.0</td>\n",
       "      <td>Mkt&amp;HR</td>\n",
       "      <td>60.22</td>\n",
       "      <td>Not Placed</td>\n",
       "      <td>NaN</td>\n",
       "    </tr>\n",
       "  </tbody>\n",
       "</table>\n",
       "<p>215 rows × 15 columns</p>\n",
       "</div>"
      ],
      "text/plain": [
       "     sl_no gender  ssc_p    ssc_b  hsc_p    hsc_b     hsc_s  degree_p  \\\n",
       "0        1      M  67.00   Others  91.00   Others  Commerce     58.00   \n",
       "1        2      M  79.33  Central  78.33   Others   Science     77.48   \n",
       "2        3      M  65.00  Central  68.00  Central      Arts     64.00   \n",
       "3        4      M  56.00  Central  52.00  Central   Science     52.00   \n",
       "4        5      M  85.80  Central  73.60  Central  Commerce     73.30   \n",
       "..     ...    ...    ...      ...    ...      ...       ...       ...   \n",
       "210    211      M  80.60   Others  82.00   Others  Commerce     77.60   \n",
       "211    212      M  58.00   Others  60.00   Others   Science     72.00   \n",
       "212    213      M  67.00   Others  67.00   Others  Commerce     73.00   \n",
       "213    214      F  74.00   Others  66.00   Others  Commerce     58.00   \n",
       "214    215      M  62.00  Central  58.00   Others   Science     53.00   \n",
       "\n",
       "      degree_t workex  etest_p specialisation  mba_p      status    salary  \n",
       "0     Sci&Tech     No     55.0         Mkt&HR  58.80      Placed  270000.0  \n",
       "1     Sci&Tech    Yes     86.5        Mkt&Fin  66.28      Placed  200000.0  \n",
       "2    Comm&Mgmt     No     75.0        Mkt&Fin  57.80      Placed  250000.0  \n",
       "3     Sci&Tech     No     66.0         Mkt&HR  59.43  Not Placed       NaN  \n",
       "4    Comm&Mgmt     No     96.8        Mkt&Fin  55.50      Placed  425000.0  \n",
       "..         ...    ...      ...            ...    ...         ...       ...  \n",
       "210  Comm&Mgmt     No     91.0        Mkt&Fin  74.49      Placed  400000.0  \n",
       "211   Sci&Tech     No     74.0        Mkt&Fin  53.62      Placed  275000.0  \n",
       "212  Comm&Mgmt    Yes     59.0        Mkt&Fin  69.72      Placed  295000.0  \n",
       "213  Comm&Mgmt     No     70.0         Mkt&HR  60.23      Placed  204000.0  \n",
       "214  Comm&Mgmt     No     89.0         Mkt&HR  60.22  Not Placed       NaN  \n",
       "\n",
       "[215 rows x 15 columns]"
      ]
     },
     "execution_count": 3,
     "metadata": {},
     "output_type": "execute_result"
    }
   ],
   "source": [
    "data"
   ]
  },
  {
   "cell_type": "markdown",
   "id": "6bd61ea8",
   "metadata": {},
   "source": [
    "# 1)Replace the NaN values with correct value. And justify why you have  chosen the same.\n",
    " "
   ]
  },
  {
   "cell_type": "code",
   "execution_count": 4,
   "id": "3f5233d9",
   "metadata": {},
   "outputs": [
    {
     "data": {
      "text/plain": [
       "sl_no              0\n",
       "gender             0\n",
       "ssc_p              0\n",
       "ssc_b              0\n",
       "hsc_p              0\n",
       "hsc_b              0\n",
       "hsc_s              0\n",
       "degree_p           0\n",
       "degree_t           0\n",
       "workex             0\n",
       "etest_p            0\n",
       "specialisation     0\n",
       "mba_p              0\n",
       "status             0\n",
       "salary            67\n",
       "dtype: int64"
      ]
     },
     "execution_count": 4,
     "metadata": {},
     "output_type": "execute_result"
    }
   ],
   "source": [
    "data.isnull().sum()"
   ]
  },
  {
   "cell_type": "code",
   "execution_count": 5,
   "id": "52b89e1c",
   "metadata": {},
   "outputs": [],
   "source": [
    "data['salary'].fillna(0,inplace=True) \n",
    "\n",
    "# I choose to fill the null values with 0 since if i fill it with anyother strategy like mean/median/mode ,then it change the behaviour of the certain row"
   ]
  },
  {
   "cell_type": "markdown",
   "id": "ef15da75",
   "metadata": {},
   "source": [
    "# 2)How many of them are not placed?"
   ]
  },
  {
   "cell_type": "code",
   "execution_count": 6,
   "id": "40c4a671",
   "metadata": {},
   "outputs": [],
   "source": [
    "Not_placed=data[data['status']=='Not Placed']['status'].count()"
   ]
  },
  {
   "cell_type": "code",
   "execution_count": 7,
   "id": "270b5e87",
   "metadata": {},
   "outputs": [
    {
     "data": {
      "text/plain": [
       "67"
      ]
     },
     "execution_count": 7,
     "metadata": {},
     "output_type": "execute_result"
    }
   ],
   "source": [
    "Not_placed"
   ]
  },
  {
   "cell_type": "code",
   "execution_count": 8,
   "id": "283f8e45",
   "metadata": {},
   "outputs": [],
   "source": [
    "data.drop('sl_no',inplace=True,axis=1)"
   ]
  },
  {
   "cell_type": "markdown",
   "id": "b677e8da",
   "metadata": {},
   "source": [
    "# 3)Find the reason for non placement from the dataset?"
   ]
  },
  {
   "cell_type": "code",
   "execution_count": 9,
   "id": "f1a353e2",
   "metadata": {},
   "outputs": [
    {
     "data": {
      "text/html": [
       "<div>\n",
       "<style scoped>\n",
       "    .dataframe tbody tr th:only-of-type {\n",
       "        vertical-align: middle;\n",
       "    }\n",
       "\n",
       "    .dataframe tbody tr th {\n",
       "        vertical-align: top;\n",
       "    }\n",
       "\n",
       "    .dataframe thead th {\n",
       "        text-align: right;\n",
       "    }\n",
       "</style>\n",
       "<table border=\"1\" class=\"dataframe\">\n",
       "  <thead>\n",
       "    <tr style=\"text-align: right;\">\n",
       "      <th></th>\n",
       "      <th>ssc_p</th>\n",
       "      <th>hsc_p</th>\n",
       "      <th>degree_p</th>\n",
       "      <th>etest_p</th>\n",
       "      <th>mba_p</th>\n",
       "      <th>salary</th>\n",
       "    </tr>\n",
       "    <tr>\n",
       "      <th>status</th>\n",
       "      <th></th>\n",
       "      <th></th>\n",
       "      <th></th>\n",
       "      <th></th>\n",
       "      <th></th>\n",
       "      <th></th>\n",
       "    </tr>\n",
       "  </thead>\n",
       "  <tbody>\n",
       "    <tr>\n",
       "      <th>Not Placed</th>\n",
       "      <td>57.544030</td>\n",
       "      <td>58.395522</td>\n",
       "      <td>61.134179</td>\n",
       "      <td>69.587910</td>\n",
       "      <td>61.612836</td>\n",
       "      <td>0.000000</td>\n",
       "    </tr>\n",
       "    <tr>\n",
       "      <th>Placed</th>\n",
       "      <td>71.721486</td>\n",
       "      <td>69.926554</td>\n",
       "      <td>68.740541</td>\n",
       "      <td>73.238041</td>\n",
       "      <td>62.579392</td>\n",
       "      <td>288655.405405</td>\n",
       "    </tr>\n",
       "  </tbody>\n",
       "</table>\n",
       "</div>"
      ],
      "text/plain": [
       "                ssc_p      hsc_p   degree_p    etest_p      mba_p  \\\n",
       "status                                                              \n",
       "Not Placed  57.544030  58.395522  61.134179  69.587910  61.612836   \n",
       "Placed      71.721486  69.926554  68.740541  73.238041  62.579392   \n",
       "\n",
       "                   salary  \n",
       "status                     \n",
       "Not Placed       0.000000  \n",
       "Placed      288655.405405  "
      ]
     },
     "execution_count": 9,
     "metadata": {},
     "output_type": "execute_result"
    }
   ],
   "source": [
    "data.groupby(\"status\").mean()\n"
   ]
  },
  {
   "cell_type": "code",
   "execution_count": 10,
   "id": "c5a8af5b",
   "metadata": {},
   "outputs": [
    {
     "name": "stdout",
     "output_type": "stream",
     "text": [
      "ssc_p: p-value = 0.00000\n",
      "hsc_p: p-value = 0.00000\n",
      "degree_p: p-value = 0.00000\n",
      "etest_p: p-value = 0.04958\n",
      "mba_p: p-value = 0.25669\n"
     ]
    }
   ],
   "source": [
    "from scipy.stats import ttest_ind\n",
    "\n",
    "# List of numerical columns to compare\n",
    "num_cols = [\"ssc_p\", \"hsc_p\", \"degree_p\", \"etest_p\", \"mba_p\"]\n",
    "\n",
    "for col in num_cols:\n",
    "    placed = data[data[\"status\"] == \"Placed\"][col].dropna()\n",
    "    not_placed = data[data[\"status\"] == \"Not Placed\"][col].dropna()\n",
    "    \n",
    "    stat, p = ttest_ind(placed, not_placed, equal_var=False)\n",
    "    print(f\"{col}: p-value = {p:.5f}\")\n"
   ]
  },
  {
   "cell_type": "code",
   "execution_count": 11,
   "id": "116dc7a9",
   "metadata": {},
   "outputs": [
    {
     "name": "stdout",
     "output_type": "stream",
     "text": [
      "Work Experience vs Placement: p-value = 0.00010\n",
      "Degree Type vs Placement: p-value = 0.22661\n"
     ]
    }
   ],
   "source": [
    "from scipy.stats import chi2_contingency\n",
    "\n",
    "# Work Experience vs Placement\n",
    "contingency_table = pd.crosstab(data[\"workex\"], data[\"status\"])\n",
    "chi2, p, _, _ = chi2_contingency(contingency_table)\n",
    "print(f\"Work Experience vs Placement: p-value = {p:.5f}\")\n",
    "\n",
    "# Degree Type vs Placement\n",
    "contingency_table = pd.crosstab(data[\"degree_t\"], data[\"status\"])\n",
    "chi2, p, _, _ = chi2_contingency(contingency_table)\n",
    "print(f\"Degree Type vs Placement: p-value = {p:.5f}\")\n"
   ]
  },
  {
   "cell_type": "code",
   "execution_count": 12,
   "id": "ac393126",
   "metadata": {},
   "outputs": [
    {
     "data": {
      "text/plain": [
       "'\\n1st: The test score like ssc_p,hsc_p,etest_p,mba_p,degree_p are low for non-placement students\\n    \\n2nd: T-test is done between the status and all numeriacal columns\\n     \\n     From that we can conclude that except mba_p, all other columns are affecting tha placemnt\\n\\n3rd: Chi-square is done between status and workex and  Degree_t\\n\\n     From that we can conclude that workex is affecting placement '"
      ]
     },
     "execution_count": 12,
     "metadata": {},
     "output_type": "execute_result"
    }
   ],
   "source": [
    "# from the above three cells we can get the reason for the not placement\n",
    "\"\"\"\n",
    "1st: The test score like ssc_p,hsc_p,etest_p,mba_p,degree_p are low for non-placement students\n",
    "    \n",
    "2nd: T-test is done between the status and all numeriacal columns\n",
    "     \n",
    "     From that we can conclude that except mba_p, all other columns are affecting tha placemnt\n",
    "\n",
    "3rd: Chi-square is done between status and workex and  Degree_t\n",
    "\n",
    "     From that we can conclude that workex is affecting placement \"\"\""
   ]
  },
  {
   "cell_type": "markdown",
   "id": "1ac2ee37",
   "metadata": {},
   "source": [
    "# 4)What kind of relation between salary and mba_p"
   ]
  },
  {
   "cell_type": "code",
   "execution_count": 13,
   "id": "578036b0",
   "metadata": {},
   "outputs": [
    {
     "data": {
      "text/plain": [
       "0.13982273892615565"
      ]
     },
     "execution_count": 13,
     "metadata": {},
     "output_type": "execute_result"
    }
   ],
   "source": [
    "data['mba_p'].corr(data['salary'])"
   ]
  },
  {
   "cell_type": "code",
   "execution_count": 14,
   "id": "80fefcdf",
   "metadata": {},
   "outputs": [],
   "source": [
    "# the correlation between mba_p and salary is 0.13 , it is about 14%. Since it is in positive range it is positive correlation"
   ]
  },
  {
   "cell_type": "markdown",
   "id": "2f4ac4ea",
   "metadata": {},
   "source": [
    "# 5)Which specialization is getting minimum salary?"
   ]
  },
  {
   "cell_type": "code",
   "execution_count": 15,
   "id": "9f9bd87f",
   "metadata": {},
   "outputs": [
    {
     "data": {
      "text/plain": [
       "'Mkt&Fin'"
      ]
     },
     "execution_count": 15,
     "metadata": {},
     "output_type": "execute_result"
    }
   ],
   "source": [
    "#Which specialization student get minimum salary\n",
    "\n",
    "data[data['salary']>0]['specialisation'].min()"
   ]
  },
  {
   "cell_type": "markdown",
   "id": "b612a45a",
   "metadata": {},
   "source": [
    "# 6)How many of them getting above 500000 salary"
   ]
  },
  {
   "cell_type": "code",
   "execution_count": 16,
   "id": "55983845",
   "metadata": {},
   "outputs": [
    {
     "data": {
      "text/plain": [
       "3"
      ]
     },
     "execution_count": 16,
     "metadata": {},
     "output_type": "execute_result"
    }
   ],
   "source": [
    "data[data['salary']>500000]['salary'].count()"
   ]
  },
  {
   "cell_type": "markdown",
   "id": "3838b752",
   "metadata": {},
   "source": [
    "#  7)Test the Analysis of Variance between etest_p and mba_p at signifance  level 5%.(Make decision using Hypothesis Testing)"
   ]
  },
  {
   "cell_type": "code",
   "execution_count": 17,
   "id": "81c06e98",
   "metadata": {},
   "outputs": [
    {
     "data": {
      "text/plain": [
       "F_onewayResult(statistic=98.64487057324706, pvalue=4.672547689133573e-21)"
      ]
     },
     "execution_count": 17,
     "metadata": {},
     "output_type": "execute_result"
    }
   ],
   "source": [
    "import  scipy.stats as stats\n",
    "stats.f_oneway(data['mba_p'],data['etest_p'])"
   ]
  },
  {
   "cell_type": "code",
   "execution_count": 18,
   "id": "8bd50fbb",
   "metadata": {},
   "outputs": [],
   "source": [
    "# Null hypothesis: There is no signifiacant difference between mba_p and etest_p\n",
    "# Alternate hypothesis: There is significant difference between mba_p and etest_p\n",
    "# p-value is greater than 0.05, so we accept Null hupothesis."
   ]
  },
  {
   "cell_type": "markdown",
   "id": "fee226dc",
   "metadata": {},
   "source": [
    "#  8)Test the similarity between the degree_t(Sci&Tech) and specialisation(Mkt&HR) with respect to salary at significance level of 5%.(Makedecision using Hypothesis Testing)"
   ]
  },
  {
   "cell_type": "code",
   "execution_count": 19,
   "id": "48be7ae0",
   "metadata": {},
   "outputs": [],
   "source": [
    "#statement:Test the similarity between Sci&Tech and Mkt&HR based on salary\n",
    "\n",
    "# Null hypothesis: There is no significant difference\n",
    "# Alternate hypothesis: There is significant difference"
   ]
  },
  {
   "cell_type": "code",
   "execution_count": 20,
   "id": "7deb6572",
   "metadata": {},
   "outputs": [
    {
     "data": {
      "text/plain": [
       "Ttest_indResult(statistic=2.692041243555374, pvalue=0.007897969943471179)"
      ]
     },
     "execution_count": 20,
     "metadata": {},
     "output_type": "execute_result"
    }
   ],
   "source": [
    "degree=data[data['degree_t']=='Sci&Tech']['salary']\n",
    "mr=data[data['specialisation']=='Mkt&HR']['salary']\n",
    "\n",
    "from  scipy.stats import ttest_ind\n",
    "\n",
    "ttest_ind(degree,mr)"
   ]
  },
  {
   "cell_type": "code",
   "execution_count": 21,
   "id": "1a84a3dc",
   "metadata": {},
   "outputs": [],
   "source": [
    "# The p-value is lesser than 0.05 , we reject null hypothesis"
   ]
  },
  {
   "cell_type": "markdown",
   "id": "db7b9b73",
   "metadata": {},
   "source": [
    "#  9)Convert the normal distribution to standard normal distribution for salary colum"
   ]
  },
  {
   "cell_type": "code",
   "execution_count": 22,
   "id": "3db34c08",
   "metadata": {},
   "outputs": [
    {
     "name": "stderr",
     "output_type": "stream",
     "text": [
      "C:\\Users\\91636\\anaconda3\\envs\\hopeai\\lib\\site-packages\\matplotlib\\cbook\\__init__.py:1402: FutureWarning: Support for multi-dimensional indexing (e.g. `obj[:, None]`) is deprecated and will be removed in a future version.  Convert to a numpy array before indexing instead.\n",
      "  x[:, None]\n",
      "C:\\Users\\91636\\anaconda3\\envs\\hopeai\\lib\\site-packages\\matplotlib\\axes\\_base.py:276: FutureWarning: Support for multi-dimensional indexing (e.g. `obj[:, None]`) is deprecated and will be removed in a future version.  Convert to a numpy array before indexing instead.\n",
      "  x = x[:, np.newaxis]\n",
      "C:\\Users\\91636\\anaconda3\\envs\\hopeai\\lib\\site-packages\\matplotlib\\axes\\_base.py:278: FutureWarning: Support for multi-dimensional indexing (e.g. `obj[:, None]`) is deprecated and will be removed in a future version.  Convert to a numpy array before indexing instead.\n",
      "  y = y[:, np.newaxis]\n"
     ]
    },
    {
     "data": {
      "text/plain": [
       "<seaborn.axisgrid.FacetGrid at 0x21fc3eb71d0>"
      ]
     },
     "execution_count": 22,
     "metadata": {},
     "output_type": "execute_result"
    },
    {
     "data": {
      "image/png": "[encoded data removed]",
      "text/plain": [
       "<Figure size 500x500 with 1 Axes>"
      ]
     },
     "metadata": {},
     "output_type": "display_data"
    }
   ],
   "source": [
    "sns.displot(data['salary'],kde=True)"
   ]
  },
  {
   "cell_type": "code",
   "execution_count": 23,
   "id": "e83ec54c",
   "metadata": {},
   "outputs": [],
   "source": [
    "def stdfun(col):\n",
    "    import seaborn as sns\n",
    "    mean=col.mean()\n",
    "    std=col.std()\n",
    "    \n",
    "    val=[i for i in col]\n",
    "    \n",
    "    z=[((x-mean)/std) for x in val]\n",
    "    sns.displot(z,kde=True)\n",
    "    sum(z)/len(z)"
   ]
  },
  {
   "cell_type": "code",
   "execution_count": 24,
   "id": "42a5618b",
   "metadata": {},
   "outputs": [
    {
     "name": "stderr",
     "output_type": "stream",
     "text": [
      "C:\\Users\\91636\\anaconda3\\envs\\hopeai\\lib\\site-packages\\matplotlib\\cbook\\__init__.py:1402: FutureWarning: Support for multi-dimensional indexing (e.g. `obj[:, None]`) is deprecated and will be removed in a future version.  Convert to a numpy array before indexing instead.\n",
      "  x[:, None]\n",
      "C:\\Users\\91636\\anaconda3\\envs\\hopeai\\lib\\site-packages\\matplotlib\\axes\\_base.py:276: FutureWarning: Support for multi-dimensional indexing (e.g. `obj[:, None]`) is deprecated and will be removed in a future version.  Convert to a numpy array before indexing instead.\n",
      "  x = x[:, np.newaxis]\n",
      "C:\\Users\\91636\\anaconda3\\envs\\hopeai\\lib\\site-packages\\matplotlib\\axes\\_base.py:278: FutureWarning: Support for multi-dimensional indexing (e.g. `obj[:, None]`) is deprecated and will be removed in a future version.  Convert to a numpy array before indexing instead.\n",
      "  y = y[:, np.newaxis]\n"
     ]
    },
    {
     "data": {
      "image/png": "[encoded data removed]",
      "text/plain": [
       "<Figure size 500x500 with 1 Axes>"
      ]
     },
     "metadata": {},
     "output_type": "display_data"
    }
   ],
   "source": [
    "stdfun(data['salary'])"
   ]
  },
  {
   "cell_type": "markdown",
   "id": "1d8bbe7e",
   "metadata": {},
   "source": [
    "#  10)What is the probability Density Function of the salary range from 700000 to 900000?"
   ]
  },
  {
   "cell_type": "code",
   "execution_count": 25,
   "id": "07f4cbd6",
   "metadata": {},
   "outputs": [],
   "source": [
    "def pdf_get(col,start,end):\n",
    "    from scipy.stats import norm\n",
    "    from matplotlib import pyplot\n",
    "    ax=sns.distplot(col,kde=True,kde_kws={'color':'blue'},color='Green')\n",
    "    #sns.kdeplot(col,color=\"Red\",fill=True,label='PDF')\n",
    "    \n",
    "    pyplot.axvline(start,color=\"pink\", linestyle=\"dashed\", label=\"Start\")\n",
    "    pyplot.axvline(end, color=\"red\", linestyle=\"dashed\", label=\"End\")\n",
    "    \n",
    "    mean=col.mean()\n",
    "    std=col.std()\n",
    "    \n",
    "    dist=norm(mean,std)\n",
    "    \n",
    "    values=[i for i in range(start,end)]\n",
    "    prob=[dist.pdf(i) for i  in values]\n",
    "    area=sum(prob)\n",
    "    \n",
    "    print(f\"The area between {start} and {end} is {area}\")\n",
    "    "
   ]
  },
  {
   "cell_type": "code",
   "execution_count": 26,
   "id": "7b95e209",
   "metadata": {},
   "outputs": [
    {
     "name": "stderr",
     "output_type": "stream",
     "text": [
      "C:\\Users\\91636\\anaconda3\\envs\\hopeai\\lib\\site-packages\\ipykernel_launcher.py:4: UserWarning: \n",
      "\n",
      "`distplot` is a deprecated function and will be removed in seaborn v0.14.0.\n",
      "\n",
      "Please adapt your code to use either `displot` (a figure-level function with\n",
      "similar flexibility) or `histplot` (an axes-level function for histograms).\n",
      "\n",
      "For a guide to updating your code to use the new functions, please see\n",
      "https://gist.github.com/mwaskom/de44147ed2974457ad6372750bbe5751\n",
      "\n",
      "  after removing the cwd from sys.path.\n",
      "C:\\Users\\91636\\anaconda3\\envs\\hopeai\\lib\\site-packages\\matplotlib\\cbook\\__init__.py:1402: FutureWarning: Support for multi-dimensional indexing (e.g. `obj[:, None]`) is deprecated and will be removed in a future version.  Convert to a numpy array before indexing instead.\n",
      "  x[:, None]\n",
      "C:\\Users\\91636\\anaconda3\\envs\\hopeai\\lib\\site-packages\\matplotlib\\axes\\_base.py:276: FutureWarning: Support for multi-dimensional indexing (e.g. `obj[:, None]`) is deprecated and will be removed in a future version.  Convert to a numpy array before indexing instead.\n",
      "  x = x[:, np.newaxis]\n",
      "C:\\Users\\91636\\anaconda3\\envs\\hopeai\\lib\\site-packages\\matplotlib\\axes\\_base.py:278: FutureWarning: Support for multi-dimensional indexing (e.g. `obj[:, None]`) is deprecated and will be removed in a future version.  Convert to a numpy array before indexing instead.\n",
      "  y = y[:, np.newaxis]\n"
     ]
    },
    {
     "name": "stdout",
     "output_type": "stream",
     "text": [
      "The area between 700000 and 900000 is 0.0005973310593974868\n"
     ]
    },
    {
     "data": {
      "image/png": "[encoded data removed]",
      "text/plain": [
       "<Figure size 640x480 with 1 Axes>"
      ]
     },
     "metadata": {},
     "output_type": "display_data"
    }
   ],
   "source": [
    "pdf_get(data['salary'],700000,900000)"
   ]
  },
  {
   "cell_type": "markdown",
   "id": "398cabe7",
   "metadata": {},
   "source": [
    "# 11)Test the similarity between the degree_t(Sci&Tech)with respect toetest_p and mba_p at significance level of 5%.(Make decision using Hypothesis Testing)"
   ]
  },
  {
   "cell_type": "code",
   "execution_count": 27,
   "id": "3e6a7bce",
   "metadata": {},
   "outputs": [
    {
     "data": {
      "text/plain": [
       "Ttest_relResult(statistic=5.0049844583693615, pvalue=5.517920600505392e-06)"
      ]
     },
     "execution_count": 27,
     "metadata": {},
     "output_type": "execute_result"
    }
   ],
   "source": [
    "from scipy.stats import ttest_rel\n",
    "etest=data[data['degree_t']=='Sci&Tech']['etest_p']\n",
    "mba=data[data['degree_t']=='Sci&Tech']['mba_p']\n",
    "\n",
    "ttest_rel(etest,mba)"
   ]
  },
  {
   "cell_type": "code",
   "execution_count": 28,
   "id": "5e02c599",
   "metadata": {},
   "outputs": [],
   "source": [
    "# Null hypothesis: There is no signifiacnt difference between etest_p and mba_p of Sci&Tech\n",
    "# Alternate hypothesis: There is signifiacnt difference between etest_p and mba_p of Sci&Tech"
   ]
  },
  {
   "cell_type": "code",
   "execution_count": 29,
   "id": "2e18a77e",
   "metadata": {},
   "outputs": [],
   "source": [
    "# The p-value is greater than 0.05, so we accept null hypothesis"
   ]
  },
  {
   "cell_type": "markdown",
   "id": "6519ba93",
   "metadata": {},
   "source": [
    "#  12)Which parameter is highly correlated with salary?"
   ]
  },
  {
   "cell_type": "code",
   "execution_count": 30,
   "id": "c6a65abc",
   "metadata": {},
   "outputs": [
    {
     "data": {
      "text/html": [
       "<div>\n",
       "<style scoped>\n",
       "    .dataframe tbody tr th:only-of-type {\n",
       "        vertical-align: middle;\n",
       "    }\n",
       "\n",
       "    .dataframe tbody tr th {\n",
       "        vertical-align: top;\n",
       "    }\n",
       "\n",
       "    .dataframe thead th {\n",
       "        text-align: right;\n",
       "    }\n",
       "</style>\n",
       "<table border=\"1\" class=\"dataframe\">\n",
       "  <thead>\n",
       "    <tr style=\"text-align: right;\">\n",
       "      <th></th>\n",
       "      <th>ssc_p</th>\n",
       "      <th>hsc_p</th>\n",
       "      <th>degree_p</th>\n",
       "      <th>etest_p</th>\n",
       "      <th>mba_p</th>\n",
       "      <th>salary</th>\n",
       "    </tr>\n",
       "  </thead>\n",
       "  <tbody>\n",
       "    <tr>\n",
       "      <th>ssc_p</th>\n",
       "      <td>1.000000</td>\n",
       "      <td>0.511472</td>\n",
       "      <td>0.538404</td>\n",
       "      <td>0.261993</td>\n",
       "      <td>0.388478</td>\n",
       "      <td>0.538090</td>\n",
       "    </tr>\n",
       "    <tr>\n",
       "      <th>hsc_p</th>\n",
       "      <td>0.511472</td>\n",
       "      <td>1.000000</td>\n",
       "      <td>0.434206</td>\n",
       "      <td>0.245113</td>\n",
       "      <td>0.354823</td>\n",
       "      <td>0.452569</td>\n",
       "    </tr>\n",
       "    <tr>\n",
       "      <th>degree_p</th>\n",
       "      <td>0.538404</td>\n",
       "      <td>0.434206</td>\n",
       "      <td>1.000000</td>\n",
       "      <td>0.224470</td>\n",
       "      <td>0.402364</td>\n",
       "      <td>0.408371</td>\n",
       "    </tr>\n",
       "    <tr>\n",
       "      <th>etest_p</th>\n",
       "      <td>0.261993</td>\n",
       "      <td>0.245113</td>\n",
       "      <td>0.224470</td>\n",
       "      <td>1.000000</td>\n",
       "      <td>0.218055</td>\n",
       "      <td>0.186988</td>\n",
       "    </tr>\n",
       "    <tr>\n",
       "      <th>mba_p</th>\n",
       "      <td>0.388478</td>\n",
       "      <td>0.354823</td>\n",
       "      <td>0.402364</td>\n",
       "      <td>0.218055</td>\n",
       "      <td>1.000000</td>\n",
       "      <td>0.139823</td>\n",
       "    </tr>\n",
       "    <tr>\n",
       "      <th>salary</th>\n",
       "      <td>0.538090</td>\n",
       "      <td>0.452569</td>\n",
       "      <td>0.408371</td>\n",
       "      <td>0.186988</td>\n",
       "      <td>0.139823</td>\n",
       "      <td>1.000000</td>\n",
       "    </tr>\n",
       "  </tbody>\n",
       "</table>\n",
       "</div>"
      ],
      "text/plain": [
       "             ssc_p     hsc_p  degree_p   etest_p     mba_p    salary\n",
       "ssc_p     1.000000  0.511472  0.538404  0.261993  0.388478  0.538090\n",
       "hsc_p     0.511472  1.000000  0.434206  0.245113  0.354823  0.452569\n",
       "degree_p  0.538404  0.434206  1.000000  0.224470  0.402364  0.408371\n",
       "etest_p   0.261993  0.245113  0.224470  1.000000  0.218055  0.186988\n",
       "mba_p     0.388478  0.354823  0.402364  0.218055  1.000000  0.139823\n",
       "salary    0.538090  0.452569  0.408371  0.186988  0.139823  1.000000"
      ]
     },
     "execution_count": 30,
     "metadata": {},
     "output_type": "execute_result"
    }
   ],
   "source": [
    "data.corr()"
   ]
  },
  {
   "cell_type": "code",
   "execution_count": 31,
   "id": "2b54d644",
   "metadata": {},
   "outputs": [],
   "source": [
    "# From the above table we can infer that salary is highly correlated with ssc_p"
   ]
  },
  {
   "cell_type": "markdown",
   "id": "eef246bd",
   "metadata": {},
   "source": [
    "# 13) plot any useful graph and explain it."
   ]
  },
  {
   "cell_type": "code",
   "execution_count": 33,
   "id": "cdb9f2e3",
   "metadata": {},
   "outputs": [
    {
     "data": {
      "image/png": "[encoded data removed]",
      "text/plain": [
       "<Figure size 640x480 with 1 Axes>"
      ]
     },
     "metadata": {},
     "output_type": "display_data"
    }
   ],
   "source": [
    "sns.boxplot(x=data['degree_t'], y=data['salary'], palette=\"coolwarm\")\n",
    "from matplotlib import pyplot as plt\n",
    "plt.xlabel(\"degree_t\")\n",
    "plt.ylabel(\"Salary\")\n",
    "plt.title(\"Salary Distribution Across Departments\")\n",
    "plt.xticks(rotation=45)\n",
    "plt.show()"
   ]
  },
  {
   "cell_type": "code",
   "execution_count": 34,
   "id": "91906168",
   "metadata": {},
   "outputs": [],
   "source": [
    "# The Sci&Tech and comm&Mgmt has similar median salary which is intrepted from the line inside the box\n",
    "# The box size of Sci&Tech and comm&Mgmt are greater than others , thus it shows the salary in these departments has wider variety than others\n",
    "# The vertical line above the all boxes indicate their maximum\n",
    "# There is black dot in inside the graph box which indicate the outliler"
   ]
  },
  {
   "cell_type": "code",
   "execution_count": null,
   "id": "28714b6b",
   "metadata": {},
   "outputs": [],
   "source": []
  }
 ],
 "metadata": {
  "kernelspec": {
   "display_name": "Python 3 (ipykernel)",
   "language": "python",
   "name": "python3"
  },
  "language_info": {
   "codemirror_mode": {
    "name": "ipython",
    "version": 3
   },
   "file_extension": ".py",
   "mimetype": "text/x-python",
   "name": "python",
   "nbconvert_exporter": "python",
   "pygments_lexer": "ipython3",
   "version": "3.7.1"
  }
 },
 "nbformat": 4,
 "nbformat_minor": 5
}
